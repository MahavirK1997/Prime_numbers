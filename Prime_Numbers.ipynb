{
 "cells": [
  {
   "cell_type": "code",
   "execution_count": 1,
   "id": "ea4beaf8",
   "metadata": {},
   "outputs": [],
   "source": [
    "import numpy as np\n",
    "import math"
   ]
  },
  {
   "cell_type": "markdown",
   "id": "64f476c7",
   "metadata": {},
   "source": [
    "# Finding Prime Numbers Less Than Equal To Given Number"
   ]
  },
  {
   "cell_type": "code",
   "execution_count": 2,
   "id": "7e02ef92",
   "metadata": {},
   "outputs": [],
   "source": [
    "def prime_numbers_upto(number):\n",
    "    prime = []                               # defining null list for adding prime numbers \n",
    "    for i in range(2, number):\n",
    "        r = []\n",
    "        for j in range(2, number):\n",
    "            if i%j == 0:    # Counting numbers which gives remainder zero after deviding given numbers with all numbers less than given number and >= 2 \n",
    "                r.append(j)                    \n",
    "        if len(r) == 1:        # if count is 1 then its prime number\n",
    "            prime.append(i) \n",
    "    no_of_primes = len(prime)\n",
    "    print('Number of prime numbers <=', number, ':', no_of_primes)     # Counting number of primes \n",
    "    print('Prime_Numbers <=', number, ':', prime)                      # Printing all prime numbers "
   ]
  },
  {
   "cell_type": "code",
   "execution_count": 3,
   "id": "9af8f17d",
   "metadata": {},
   "outputs": [
    {
     "name": "stdout",
     "output_type": "stream",
     "text": [
      "Number of prime numbers <= 20 : 8\n",
      "Prime_Numbers <= 20 : [2, 3, 5, 7, 11, 13, 17, 19]\n"
     ]
    }
   ],
   "source": [
    "prime_numbers_upto(20)"
   ]
  },
  {
   "cell_type": "markdown",
   "id": "d02a4897",
   "metadata": {},
   "source": [
    "# Checking If Given Number Is Prime Or Not "
   ]
  },
  {
   "cell_type": "code",
   "execution_count": 4,
   "id": "06f9c8c3",
   "metadata": {},
   "outputs": [],
   "source": [
    "def is_prime(number): \n",
    "    r = []\n",
    "    for j in range(2, number + 1):\n",
    "        if number%j == 0:                           \n",
    "            r.append(j)\n",
    "    if len(r) == 1:                               # checking if number is prime or not \n",
    "        print(number, 'is PRIME')  \n",
    "    else:\n",
    "        print(number, 'is Not_PRIME')"
   ]
  },
  {
   "cell_type": "code",
   "execution_count": 5,
   "id": "ed21b619",
   "metadata": {},
   "outputs": [
    {
     "name": "stdout",
     "output_type": "stream",
     "text": [
      "47 is PRIME\n"
     ]
    }
   ],
   "source": [
    "is_prime(47)"
   ]
  },
  {
   "cell_type": "markdown",
   "id": "fce5bf23",
   "metadata": {},
   "source": [
    "# Finding Prime Numbers Between Given 2 Numbers"
   ]
  },
  {
   "cell_type": "code",
   "execution_count": 6,
   "id": "1358a144",
   "metadata": {},
   "outputs": [],
   "source": [
    "def prime_between(number1, number2):\n",
    "    prime = []\n",
    "    for i in range(number1, number2 + 1):\n",
    "        r = []\n",
    "        for j in range(2, number2 + 1):\n",
    "            if i%j == 0:\n",
    "                r.append(j)\n",
    "        if len(r) == 1:\n",
    "            prime.append(i)\n",
    "    print('Number of prime numbers between', number1, 'and', number2, 'are:', len(prime))\n",
    "    print('Prime_Numbers between', number1, 'and', number2, '(both inclusive):', prime)"
   ]
  },
  {
   "cell_type": "code",
   "execution_count": 7,
   "id": "8247ee68",
   "metadata": {},
   "outputs": [
    {
     "name": "stdout",
     "output_type": "stream",
     "text": [
      "Number of prime numbers between 10 and 50 are: 11\n",
      "Prime_Numbers between 10 and 50 (both inclusive): [11, 13, 17, 19, 23, 29, 31, 37, 41, 43, 47]\n"
     ]
    }
   ],
   "source": [
    "prime_between(10, 50)"
   ]
  },
  {
   "cell_type": "code",
   "execution_count": 4,
   "id": "0bb06283",
   "metadata": {},
   "outputs": [
    {
     "name": "stdout",
     "output_type": "stream",
     "text": [
      "Number of prime numbers <= 10 : 4\n",
      "Prime_Numbers <= 10 : [2, 3, 5, 7]\n"
     ]
    }
   ],
   "source": [
    "prime_numbers_upto(10)"
   ]
  },
  {
   "cell_type": "code",
   "execution_count": 27,
   "id": "6d83b35c",
   "metadata": {},
   "outputs": [
    {
     "name": "stdout",
     "output_type": "stream",
     "text": [
      "Number of prime numbers between 11000 and 11270 are: 27\n",
      "Prime_Numbers between 11000 and 11270 (both inclusive): [11003, 11027, 11047, 11057, 11059, 11069, 11071, 11083, 11087, 11093, 11113, 11117, 11119, 11131, 11149, 11159, 11161, 11171, 11173, 11177, 11197, 11213, 11239, 11243, 11251, 11257, 11261]\n"
     ]
    }
   ],
   "source": [
    "prime_between(11000, 11270)"
   ]
  }
 ],
 "metadata": {
  "kernelspec": {
   "display_name": "Python 3 (ipykernel)",
   "language": "python",
   "name": "python3"
  },
  "language_info": {
   "codemirror_mode": {
    "name": "ipython",
    "version": 3
   },
   "file_extension": ".py",
   "mimetype": "text/x-python",
   "name": "python",
   "nbconvert_exporter": "python",
   "pygments_lexer": "ipython3",
   "version": "3.10.2"
  }
 },
 "nbformat": 4,
 "nbformat_minor": 5
}
